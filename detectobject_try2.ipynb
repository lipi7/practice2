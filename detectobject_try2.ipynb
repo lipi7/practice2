{
 "cells": [
  {
   "cell_type": "code",
   "execution_count": null,
   "metadata": {},
   "outputs": [],
   "source": [
    "import tensorflow as tf\n",
    "import tensorflow_hub as hub\n",
    "\n",
    "import matplotlib.pyplot as plt\n",
    "import tempfile\n",
    "from six.moves.urllib.request import urlopen\n",
    "from six import BytesIO\n",
    "#tensorflow.org/hub/tutorials/object_detection\n",
    "import numpy as np\n",
    "from PIL import Image\n",
    "from PIL import ImageColor\n",
    "from PIL import ImageDraw\n",
    "from PIL import ImageFont\n",
    "from PIL import ImageDps\n",
    "\n",
    "import time\n",
    "\n",
    "print(tf.__version__)\n",
    "\n",
    "#print()"
   ]
  },
  {
   "cell_type": "code",
   "execution_count": null,
   "metadata": {},
   "outputs": [],
   "source": [
    "def display_image(image):\n",
    "    fig = plt.figure(figsize(20,15))\n",
    "    plt.grid(True)\n",
    "    plt.imshow(image)\n",
    "    \n",
    "def download_resize_image(url,new_width=256,new_height=256,display=False):\n",
    "    fileName = tempfile.mkstemp(suffix= 'jpeg')\n",
    "    response = urlopen(url)\n",
    "    image_data = response.read()\n",
    "    image_data = BytesIO(image_data)\n",
    "    pil_image = Image.open(image_data)\n",
    "    pil_image = ImageOps.fit(pil_image,(new_width,new_height),Image.ANTIALIAS)\n",
    "    pil_image_rgb = pil_image.convert('RGB')\n",
    "    pil_image_rgb.save(fileName,format='JPEG',qualiaty=90)\n",
    "    print(\"Image downladed to %s\",%fileName)\n",
    "    if display:\n",
    "        display_image(pil_image)\n",
    "    return fileName\n",
    "\n",
    "def \n",
    "    "
   ]
  }
 ],
 "metadata": {
  "kernelspec": {
   "display_name": "Python 3",
   "language": "python",
   "name": "python3"
  },
  "language_info": {
   "codemirror_mode": {
    "name": "ipython",
    "version": 3
   },
   "file_extension": ".py",
   "mimetype": "text/x-python",
   "name": "python",
   "nbconvert_exporter": "python",
   "pygments_lexer": "ipython3",
   "version": "3.8.5"
  }
 },
 "nbformat": 4,
 "nbformat_minor": 4
}
